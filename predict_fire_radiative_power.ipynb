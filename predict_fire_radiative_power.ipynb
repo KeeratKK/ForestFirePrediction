{
 "cells": [
  {
   "cell_type": "code",
   "execution_count": 1,
   "id": "b4ba72d6",
   "metadata": {},
   "outputs": [],
   "source": [
    "# Load data analysis libraries\n",
    "import pandas as pd\n",
    "import numpy as np\n",
    "import seaborn as sns\n",
    "import matplotlib.pyplot as plt"
   ]
  },
  {
   "cell_type": "code",
   "execution_count": 2,
   "id": "75985d4e",
   "metadata": {},
   "outputs": [],
   "source": [
    "# Load machine learning libraries\n",
    "from sklearn.model_selection import train_test_split\n",
    "from sklearn.neighbors import KNeighborsRegressor\n",
    "from sklearn.tree import DecisionTreeRegressor\n",
    "from sklearn.ensemble import RandomForestRegressor\n",
    "from sklearn.metrics import mean_squared_error"
   ]
  },
  {
   "cell_type": "code",
   "execution_count": 3,
   "id": "121120d9",
   "metadata": {},
   "outputs": [],
   "source": [
    "# Specify columns from original csv to load into DataFrame\n",
    "all_cols = ['Polygon_ID',\n",
    " 'acq_date',\n",
    " 'frp',\n",
    " 'acq_time',\n",
    " 'ELEV_sum',\n",
    " 'ELEV_mean',\n",
    " 'SLP_sum',\n",
    " 'SLP_mean',\n",
    " 'EVT_sum',\n",
    " 'EVT_mean',\n",
    " 'EVH_sum',\n",
    " 'EVH_mean',\n",
    " 'EVC_sum',\n",
    " 'EVC_mean',\n",
    " 'CBD_sum',\n",
    " 'CBD_mean',\n",
    " 'CBH_sum',\n",
    " 'CBH_mean',\n",
    " 'CC_sum',\n",
    " 'CC_mean',\n",
    " 'CH_sum',\n",
    " 'CH_mean',\n",
    " 'c_latitude',\n",
    " 'c_longitude',\n",
    " 'TEMP_min',\n",
    " 'TEMP_max',\n",
    " 'PRCP',\n",
    " 'SNOW',\n",
    " 'WDIR_ave',\n",
    " 'WSPD_ave',\n",
    " 'PRES_ave',\n",
    " 'WCOMP']\n",
    "\n",
    "# Specify columns to train models with\n",
    "cols = ['ELEV_mean',\n",
    " 'SLP_mean',\n",
    " 'EVT_mean',\n",
    " 'EVH_mean',\n",
    " 'TEMP_min',\n",
    " 'TEMP_max',\n",
    " 'PRCP',\n",
    " 'WSPD_ave',\n",
    " 'PRES_ave']"
   ]
  },
  {
   "cell_type": "code",
   "execution_count": null,
   "id": "5b422138",
   "metadata": {},
   "outputs": [],
   "source": [
    "# Load data with specified columns, downloaded from https://zenodo.org/doi/10.5281/zenodo.5636428\n",
    "df = pd.read_csv(\"features_array.csv\", sep = \"\\t\", index_col=False, usecols=cols)"
   ]
  },
  {
   "cell_type": "code",
   "execution_count": null,
   "id": "ff3c1a0b",
   "metadata": {},
   "outputs": [],
   "source": [
    "# Show first 5 rows\n",
    "df.head()"
   ]
  },
  {
   "cell_type": "code",
   "execution_count": null,
   "id": "5258a8b7",
   "metadata": {},
   "outputs": [],
   "source": [
    "# Select all rows where fire was from 2016\n",
    "fires = df[df['acq_date'].str.contains(pat = '2016')]"
   ]
  },
  {
   "cell_type": "code",
   "execution_count": null,
   "id": "2c5072b3",
   "metadata": {},
   "outputs": [],
   "source": [
    "# Some cells in FRP column have two values because the satellite may collect two values at a given time for the same location\n",
    "# Select just the first value in the cell\n",
    "fires['frp'] = fires['frp'].str.split(',').str[0]\n",
    "\n",
    "# Drop all NaN values\n",
    "fires = fires.dropna()"
   ]
  },
  {
   "cell_type": "code",
   "execution_count": null,
   "id": "db21a6ff",
   "metadata": {},
   "outputs": [],
   "source": [
    "# Show statistics about each parameter\n",
    "fires.describe()"
   ]
  },
  {
   "cell_type": "code",
   "execution_count": null,
   "id": "75e0f691",
   "metadata": {},
   "outputs": [],
   "source": [
    "# Plot frequencies of Fire Radiative Power\n",
    "plt.hist(fires['frp'], bins=100)\n",
    "plt.title(\"Fire Radiative Power, Not Scaled\")\n",
    "plt.show()"
   ]
  },
  {
   "cell_type": "code",
   "execution_count": null,
   "id": "49956b78",
   "metadata": {},
   "outputs": [],
   "source": [
    "# Because FRP are skewed, create new column with log transform\n",
    "# Method from https://aosmith.rbind.io/2018/09/19/the-log-0-problem/\n",
    "fires['frp_scaled'] = np.log10(fires['frp'] + 1)"
   ]
  },
  {
   "cell_type": "code",
   "execution_count": null,
   "id": "185e0113",
   "metadata": {},
   "outputs": [],
   "source": [
    "# Plot frequencies of Fire Radiative Power with log transform\n",
    "plt.hist(fires['frp_scaled'], bins=100)\n",
    "plt.title(\"Fire Radiative Power, Scaled\")\n",
    "plt.show()"
   ]
  },
  {
   "cell_type": "markdown",
   "id": "b95cefbf",
   "metadata": {},
   "source": [
    "## Predict with K-Nearest Neighbors Algorithm"
   ]
  },
  {
   "cell_type": "code",
   "execution_count": 5,
   "id": "05d3e05b",
   "metadata": {},
   "outputs": [],
   "source": [
    "X = fires[cols]          # Independent variables\n",
    "Y = fires['frp_scaled']  # Dependent variable\n",
    "\n",
    "# Separate 80% data into training set and 20% into test set\n",
    "# random_state=0 ensures that the results are reproducible\n",
    "X_train, X_test, Y_train, Y_test = train_test_split(X, Y, test_size=.20, random_state=0)"
   ]
  },
  {
   "cell_type": "code",
   "execution_count": 6,
   "id": "0ce47bb4",
   "metadata": {},
   "outputs": [],
   "source": [
    "# Applying k-nearest neighbors model\n",
    "KNN_model = KNeighborsRegressor(n_neighbors=12).fit(X_train,Y_train)\n",
    "KNN_predict = KNN_model.predict(X_test) # Predictions on testing data"
   ]
  },
  {
   "cell_type": "code",
   "execution_count": 7,
   "id": "2cc30c60",
   "metadata": {},
   "outputs": [
    {
     "name": "stdout",
     "output_type": "stream",
     "text": [
      "Mean Squared Error (Scaled): 0.05622150334352182\n",
      "Mean Absolute Error (Scaled): 0.16534501308119112\n"
     ]
    }
   ],
   "source": [
    "# Print the scaled mean squared error\n",
    "error = mean_squared_error(Y_test, KNN_predict)\n",
    "print(\"Mean Squared Error (Scaled):\", error)\n",
    "\n",
    "# Calculate the absolute errors\n",
    "errors = abs(KNN_predict - Y_test)\n",
    "\n",
    "# Print the mean absolute error (MAE)\n",
    "print('Mean Absolute Error (Scaled):', np.mean(errors))"
   ]
  },
  {
   "cell_type": "markdown",
   "id": "de07ff30",
   "metadata": {},
   "source": [
    "## Predict with Decision Tree Algorithm\n",
    "\n",
    "- Code references tutorial https://www.askpython.com/python/examples/python-predict-function"
   ]
  },
  {
   "cell_type": "code",
   "execution_count": 8,
   "id": "19fa7f55",
   "metadata": {},
   "outputs": [],
   "source": [
    "# Separate data without scaled FRP values\n",
    "\n",
    "X = fires[cols]  # Independent variables\n",
    "Y = fires['frp']  # Dependent variable\n",
    "\n",
    "# Separate 80% data into training set and 20% into test set\n",
    "X_train, X_test, Y_train, Y_test = train_test_split(X, Y, test_size=.20, random_state=0)"
   ]
  },
  {
   "cell_type": "code",
   "execution_count": 9,
   "id": "6fc6067b",
   "metadata": {},
   "outputs": [],
   "source": [
    "DT_model = DecisionTreeRegressor(max_depth=5).fit(X_train,Y_train)\n",
    "DT_predict = DT_model.predict(X_test) # Predictions on testing data"
   ]
  },
  {
   "cell_type": "code",
   "execution_count": 15,
   "id": "f77227b5",
   "metadata": {},
   "outputs": [
    {
     "name": "stdout",
     "output_type": "stream",
     "text": [
      "Root Mean Squared Error: 25.457777153918286\n",
      "Mean Absolute Error: 9.413833581960157\n"
     ]
    }
   ],
   "source": [
    "# Print root mean square error (RMSE)\n",
    "error = mean_squared_error(Y_test, DT_predict)\n",
    "print(\"Root Mean Squared Error:\", error**0.5)\n",
    "\n",
    "# Calculate the absolute errors\n",
    "errors = abs(DT_predict - Y_test)\n",
    "\n",
    "# Print out the mean absolute error (MAE)\n",
    "print('Mean Absolute Error:', np.mean(errors))"
   ]
  },
  {
   "cell_type": "markdown",
   "id": "9fc89120",
   "metadata": {},
   "source": [
    "## Predict with Random Forest\n",
    "\n",
    "- Code references article https://medium.com/@theclickreader/random-forest-regression-explained-with-implementation-in-python-3dad88caf165\n",
    "- Based on parameters used by Singla et al., the team behind WildfireDB https://openreview.net/pdf?id=6nblryHxVbO"
   ]
  },
  {
   "cell_type": "code",
   "execution_count": 12,
   "id": "467b853d",
   "metadata": {
    "scrolled": true
   },
   "outputs": [],
   "source": [
    "RF_model = RandomForestRegressor(n_estimators = 50, max_depth = 30, max_samples=5000).fit(X_train, Y_train)\n",
    "RF_predict = RF_model.predict(X_test) # Predictions on testing data"
   ]
  },
  {
   "cell_type": "code",
   "execution_count": 14,
   "id": "d229b30f",
   "metadata": {},
   "outputs": [
    {
     "name": "stdout",
     "output_type": "stream",
     "text": [
      "Root Mean Squared Error: 24.235273829661573\n",
      "Mean Absolute Error: 9.322914812024603\n"
     ]
    }
   ],
   "source": [
    "# Print root mean square error (RMSE)\n",
    "error = mean_squared_error(Y_test, RF_predict)\n",
    "print(\"Root Mean Squared Error:\", error**0.5)\n",
    "\n",
    "# Calculate the absolute errors\n",
    "errors = abs(RF_predict - Y_test)\n",
    "\n",
    "# Print out the mean absolute error (MAE)\n",
    "print('Mean Absolute Error:', np.mean(errors))"
   ]
  },
  {
   "cell_type": "code",
   "execution_count": null,
   "id": "df21af84",
   "metadata": {},
   "outputs": [],
   "source": []
  }
 ],
 "metadata": {
  "kernelspec": {
   "display_name": "Python 3 (ipykernel)",
   "language": "python",
   "name": "python3"
  },
  "language_info": {
   "codemirror_mode": {
    "name": "ipython",
    "version": 3
   },
   "file_extension": ".py",
   "mimetype": "text/x-python",
   "name": "python",
   "nbconvert_exporter": "python",
   "pygments_lexer": "ipython3",
   "version": "3.11.5"
  }
 },
 "nbformat": 4,
 "nbformat_minor": 5
}
