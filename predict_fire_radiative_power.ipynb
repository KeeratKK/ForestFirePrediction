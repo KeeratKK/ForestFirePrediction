{
 "cells": [
  {
   "cell_type": "code",
   "execution_count": 1,
   "id": "b4ba72d6",
   "metadata": {},
   "outputs": [],
   "source": [
    "import pandas as pd\n",
    "import numpy as np\n",
    "import seaborn as sns\n",
    "import matplotlib.pyplot as plt"
   ]
  },
  {
   "cell_type": "code",
   "execution_count": 27,
   "id": "75985d4e",
   "metadata": {},
   "outputs": [],
   "source": [
    "from sklearn.model_selection import train_test_split\n",
    "from sklearn.neighbors import KNeighborsRegressor\n",
    "from sklearn.tree import DecisionTreeRegressor\n",
    "from sklearn.ensemble import RandomForestRegressor\n",
    "from sklearn.metrics import mean_squared_error, r2_score"
   ]
  },
  {
   "cell_type": "code",
   "execution_count": 3,
   "id": "121120d9",
   "metadata": {},
   "outputs": [],
   "source": [
    "all_cols = ['Polygon_ID',\n",
    " 'acq_date',\n",
    " 'frp',\n",
    " 'acq_time',\n",
    " 'ELEV_sum',\n",
    " 'ELEV_mean',\n",
    " 'SLP_sum',\n",
    " 'SLP_mean',\n",
    " 'EVT_sum',\n",
    " 'EVT_mean',\n",
    " 'EVH_sum',\n",
    " 'EVH_mean',\n",
    " 'EVC_sum',\n",
    " 'EVC_mean',\n",
    " 'CBD_sum',\n",
    " 'CBD_mean',\n",
    " 'CBH_sum',\n",
    " 'CBH_mean',\n",
    " 'CC_sum',\n",
    " 'CC_mean',\n",
    " 'CH_sum',\n",
    " 'CH_mean',\n",
    " 'c_latitude',\n",
    " 'c_longitude',\n",
    " 'TEMP_min',\n",
    " 'TEMP_max',\n",
    " 'PRCP',\n",
    " 'SNOW',\n",
    " 'WDIR_ave',\n",
    " 'WSPD_ave',\n",
    " 'PRES_ave',\n",
    " 'WCOMP']\n",
    "\n",
    "cols = ['ELEV_sum',\n",
    " 'ELEV_mean',\n",
    " 'SLP_sum',\n",
    " 'SLP_mean',\n",
    " 'EVT_sum',\n",
    " 'EVT_mean',\n",
    " 'EVH_sum',\n",
    " 'EVH_mean',\n",
    " 'EVC_sum',\n",
    " 'EVC_mean',\n",
    " 'CBD_sum',\n",
    " 'CBD_mean',\n",
    " 'CBH_sum',\n",
    " 'CBH_mean',\n",
    " 'CC_sum',\n",
    " 'CC_mean',\n",
    " 'CH_sum',\n",
    " 'CH_mean',\n",
    " 'TEMP_min',\n",
    " 'TEMP_max',\n",
    " 'PRCP',\n",
    " 'SNOW',\n",
    " 'WDIR_ave',\n",
    " 'WSPD_ave',\n",
    " 'PRES_ave',\n",
    " 'WCOMP']"
   ]
  },
  {
   "cell_type": "code",
   "execution_count": 4,
   "id": "5b422138",
   "metadata": {},
   "outputs": [],
   "source": [
    "fires = pd.read_csv(\"C:\\\\Users\\\\szhan\\\\Downloads\\\\MAD2502_Forest_Fire\\\\Dataset\\\\wildfiredb_us_2016.csv\", usecols = all_cols)"
   ]
  },
  {
   "cell_type": "code",
   "execution_count": 5,
   "id": "ff3c1a0b",
   "metadata": {},
   "outputs": [
    {
     "data": {
      "text/html": [
       "<div>\n",
       "<style scoped>\n",
       "    .dataframe tbody tr th:only-of-type {\n",
       "        vertical-align: middle;\n",
       "    }\n",
       "\n",
       "    .dataframe tbody tr th {\n",
       "        vertical-align: top;\n",
       "    }\n",
       "\n",
       "    .dataframe thead th {\n",
       "        text-align: right;\n",
       "    }\n",
       "</style>\n",
       "<table border=\"1\" class=\"dataframe\">\n",
       "  <thead>\n",
       "    <tr style=\"text-align: right;\">\n",
       "      <th></th>\n",
       "      <th>Polygon_ID</th>\n",
       "      <th>acq_date</th>\n",
       "      <th>frp</th>\n",
       "      <th>acq_time</th>\n",
       "      <th>ELEV_sum</th>\n",
       "      <th>ELEV_mean</th>\n",
       "      <th>SLP_sum</th>\n",
       "      <th>SLP_mean</th>\n",
       "      <th>EVT_sum</th>\n",
       "      <th>EVT_mean</th>\n",
       "      <th>...</th>\n",
       "      <th>c_latitude</th>\n",
       "      <th>c_longitude</th>\n",
       "      <th>TEMP_min</th>\n",
       "      <th>TEMP_max</th>\n",
       "      <th>PRCP</th>\n",
       "      <th>SNOW</th>\n",
       "      <th>WDIR_ave</th>\n",
       "      <th>WSPD_ave</th>\n",
       "      <th>PRES_ave</th>\n",
       "      <th>WCOMP</th>\n",
       "    </tr>\n",
       "  </thead>\n",
       "  <tbody>\n",
       "    <tr>\n",
       "      <th>0</th>\n",
       "      <td>947330</td>\n",
       "      <td>2016-04-18</td>\n",
       "      <td>4.9</td>\n",
       "      <td>2143</td>\n",
       "      <td>0.0</td>\n",
       "      <td>0.0</td>\n",
       "      <td>0.0</td>\n",
       "      <td>0.0</td>\n",
       "      <td>25737.0</td>\n",
       "      <td>164.98077</td>\n",
       "      <td>...</td>\n",
       "      <td>-2.310176e+06</td>\n",
       "      <td>2.120505e+06</td>\n",
       "      <td>18.5</td>\n",
       "      <td>7.8</td>\n",
       "      <td>29.4</td>\n",
       "      <td>0.0</td>\n",
       "      <td>NaN</td>\n",
       "      <td>NaN</td>\n",
       "      <td>4.3</td>\n",
       "      <td>1016.8</td>\n",
       "    </tr>\n",
       "    <tr>\n",
       "      <th>1</th>\n",
       "      <td>978468</td>\n",
       "      <td>2016-11-14</td>\n",
       "      <td>0.7</td>\n",
       "      <td>943</td>\n",
       "      <td>0.0</td>\n",
       "      <td>0.0</td>\n",
       "      <td>0.0</td>\n",
       "      <td>0.0</td>\n",
       "      <td>25095.0</td>\n",
       "      <td>160.86539</td>\n",
       "      <td>...</td>\n",
       "      <td>-2.308676e+06</td>\n",
       "      <td>2.056755e+06</td>\n",
       "      <td>13.5</td>\n",
       "      <td>8.3</td>\n",
       "      <td>22.8</td>\n",
       "      <td>0.0</td>\n",
       "      <td>0.0</td>\n",
       "      <td>NaN</td>\n",
       "      <td>3.9</td>\n",
       "      <td>1021.0</td>\n",
       "    </tr>\n",
       "    <tr>\n",
       "      <th>2</th>\n",
       "      <td>1295072</td>\n",
       "      <td>2016-10-11</td>\n",
       "      <td>11.2</td>\n",
       "      <td>2144</td>\n",
       "      <td>0.0</td>\n",
       "      <td>0.0</td>\n",
       "      <td>0.0</td>\n",
       "      <td>0.0</td>\n",
       "      <td>25073.0</td>\n",
       "      <td>174.11806</td>\n",
       "      <td>...</td>\n",
       "      <td>-2.293301e+06</td>\n",
       "      <td>2.363505e+06</td>\n",
       "      <td>12.8</td>\n",
       "      <td>10.6</td>\n",
       "      <td>15.0</td>\n",
       "      <td>0.0</td>\n",
       "      <td>0.0</td>\n",
       "      <td>NaN</td>\n",
       "      <td>4.9</td>\n",
       "      <td>1018.4</td>\n",
       "    </tr>\n",
       "    <tr>\n",
       "      <th>3</th>\n",
       "      <td>1395647</td>\n",
       "      <td>2016-11-04</td>\n",
       "      <td>18.2</td>\n",
       "      <td>2053</td>\n",
       "      <td>0.0</td>\n",
       "      <td>0.0</td>\n",
       "      <td>0.0</td>\n",
       "      <td>0.0</td>\n",
       "      <td>56920.0</td>\n",
       "      <td>168.40237</td>\n",
       "      <td>...</td>\n",
       "      <td>-2.288426e+06</td>\n",
       "      <td>2.390130e+06</td>\n",
       "      <td>13.7</td>\n",
       "      <td>9.4</td>\n",
       "      <td>17.8</td>\n",
       "      <td>0.0</td>\n",
       "      <td>0.0</td>\n",
       "      <td>171.6</td>\n",
       "      <td>14.0</td>\n",
       "      <td>1019.6</td>\n",
       "    </tr>\n",
       "    <tr>\n",
       "      <th>4</th>\n",
       "      <td>1395715</td>\n",
       "      <td>2016-11-17</td>\n",
       "      <td>8.0</td>\n",
       "      <td>2010</td>\n",
       "      <td>0.0</td>\n",
       "      <td>0.0</td>\n",
       "      <td>0.0</td>\n",
       "      <td>0.0</td>\n",
       "      <td>51824.0</td>\n",
       "      <td>153.32544</td>\n",
       "      <td>...</td>\n",
       "      <td>-2.288426e+06</td>\n",
       "      <td>2.364630e+06</td>\n",
       "      <td>8.0</td>\n",
       "      <td>4.4</td>\n",
       "      <td>12.8</td>\n",
       "      <td>0.0</td>\n",
       "      <td>0.0</td>\n",
       "      <td>158.1</td>\n",
       "      <td>7.4</td>\n",
       "      <td>1020.8</td>\n",
       "    </tr>\n",
       "  </tbody>\n",
       "</table>\n",
       "<p>5 rows × 32 columns</p>\n",
       "</div>"
      ],
      "text/plain": [
       "   Polygon_ID    acq_date   frp acq_time  ELEV_sum  ELEV_mean  SLP_sum  \\\n",
       "0      947330  2016-04-18   4.9     2143       0.0        0.0      0.0   \n",
       "1      978468  2016-11-14   0.7      943       0.0        0.0      0.0   \n",
       "2     1295072  2016-10-11  11.2     2144       0.0        0.0      0.0   \n",
       "3     1395647  2016-11-04  18.2     2053       0.0        0.0      0.0   \n",
       "4     1395715  2016-11-17   8.0     2010       0.0        0.0      0.0   \n",
       "\n",
       "   SLP_mean  EVT_sum   EVT_mean  ...    c_latitude   c_longitude  TEMP_min  \\\n",
       "0       0.0  25737.0  164.98077  ... -2.310176e+06  2.120505e+06      18.5   \n",
       "1       0.0  25095.0  160.86539  ... -2.308676e+06  2.056755e+06      13.5   \n",
       "2       0.0  25073.0  174.11806  ... -2.293301e+06  2.363505e+06      12.8   \n",
       "3       0.0  56920.0  168.40237  ... -2.288426e+06  2.390130e+06      13.7   \n",
       "4       0.0  51824.0  153.32544  ... -2.288426e+06  2.364630e+06       8.0   \n",
       "\n",
       "   TEMP_max  PRCP  SNOW  WDIR_ave  WSPD_ave  PRES_ave   WCOMP  \n",
       "0       7.8  29.4   0.0       NaN       NaN       4.3  1016.8  \n",
       "1       8.3  22.8   0.0       0.0       NaN       3.9  1021.0  \n",
       "2      10.6  15.0   0.0       0.0       NaN       4.9  1018.4  \n",
       "3       9.4  17.8   0.0       0.0     171.6      14.0  1019.6  \n",
       "4       4.4  12.8   0.0       0.0     158.1       7.4  1020.8  \n",
       "\n",
       "[5 rows x 32 columns]"
      ]
     },
     "execution_count": 5,
     "metadata": {},
     "output_type": "execute_result"
    }
   ],
   "source": [
    "fires.head()"
   ]
  },
  {
   "cell_type": "code",
   "execution_count": 6,
   "id": "db21a6ff",
   "metadata": {},
   "outputs": [
    {
     "data": {
      "text/html": [
       "<div>\n",
       "<style scoped>\n",
       "    .dataframe tbody tr th:only-of-type {\n",
       "        vertical-align: middle;\n",
       "    }\n",
       "\n",
       "    .dataframe tbody tr th {\n",
       "        vertical-align: top;\n",
       "    }\n",
       "\n",
       "    .dataframe thead th {\n",
       "        text-align: right;\n",
       "    }\n",
       "</style>\n",
       "<table border=\"1\" class=\"dataframe\">\n",
       "  <thead>\n",
       "    <tr style=\"text-align: right;\">\n",
       "      <th></th>\n",
       "      <th>Polygon_ID</th>\n",
       "      <th>frp</th>\n",
       "      <th>ELEV_sum</th>\n",
       "      <th>ELEV_mean</th>\n",
       "      <th>SLP_sum</th>\n",
       "      <th>SLP_mean</th>\n",
       "      <th>EVT_sum</th>\n",
       "      <th>EVT_mean</th>\n",
       "      <th>EVH_sum</th>\n",
       "      <th>EVH_mean</th>\n",
       "      <th>...</th>\n",
       "      <th>c_latitude</th>\n",
       "      <th>c_longitude</th>\n",
       "      <th>TEMP_min</th>\n",
       "      <th>TEMP_max</th>\n",
       "      <th>PRCP</th>\n",
       "      <th>SNOW</th>\n",
       "      <th>WDIR_ave</th>\n",
       "      <th>WSPD_ave</th>\n",
       "      <th>PRES_ave</th>\n",
       "      <th>WCOMP</th>\n",
       "    </tr>\n",
       "  </thead>\n",
       "  <tbody>\n",
       "    <tr>\n",
       "      <th>count</th>\n",
       "      <td>2.793185e+06</td>\n",
       "      <td>2.793185e+06</td>\n",
       "      <td>2.793185e+06</td>\n",
       "      <td>2.793185e+06</td>\n",
       "      <td>2.793185e+06</td>\n",
       "      <td>2.793185e+06</td>\n",
       "      <td>2.793185e+06</td>\n",
       "      <td>2.793185e+06</td>\n",
       "      <td>2.793185e+06</td>\n",
       "      <td>2.793185e+06</td>\n",
       "      <td>...</td>\n",
       "      <td>2.793185e+06</td>\n",
       "      <td>2.793185e+06</td>\n",
       "      <td>2.792932e+06</td>\n",
       "      <td>2.793092e+06</td>\n",
       "      <td>2.793092e+06</td>\n",
       "      <td>2.790321e+06</td>\n",
       "      <td>2.425210e+06</td>\n",
       "      <td>1.678275e+06</td>\n",
       "      <td>2.792780e+06</td>\n",
       "      <td>2.785373e+06</td>\n",
       "    </tr>\n",
       "    <tr>\n",
       "      <th>mean</th>\n",
       "      <td>4.573263e+07</td>\n",
       "      <td>1.042587e+01</td>\n",
       "      <td>1.159594e+05</td>\n",
       "      <td>4.988689e+02</td>\n",
       "      <td>8.750707e+02</td>\n",
       "      <td>4.323684e+00</td>\n",
       "      <td>3.377867e+04</td>\n",
       "      <td>1.797674e+02</td>\n",
       "      <td>2.921417e+04</td>\n",
       "      <td>1.553358e+02</td>\n",
       "      <td>...</td>\n",
       "      <td>-1.409716e+05</td>\n",
       "      <td>1.616032e+06</td>\n",
       "      <td>1.716024e+01</td>\n",
       "      <td>9.740139e+00</td>\n",
       "      <td>2.487394e+01</td>\n",
       "      <td>5.314546e-01</td>\n",
       "      <td>3.326034e-01</td>\n",
       "      <td>1.926398e+02</td>\n",
       "      <td>1.081041e+01</td>\n",
       "      <td>1.017047e+03</td>\n",
       "    </tr>\n",
       "    <tr>\n",
       "      <th>std</th>\n",
       "      <td>2.343458e+07</td>\n",
       "      <td>2.868568e+01</td>\n",
       "      <td>1.781257e+05</td>\n",
       "      <td>6.779527e+02</td>\n",
       "      <td>1.631309e+03</td>\n",
       "      <td>6.891363e+00</td>\n",
       "      <td>2.203291e+04</td>\n",
       "      <td>9.549594e+01</td>\n",
       "      <td>1.951421e+04</td>\n",
       "      <td>8.436214e+01</td>\n",
       "      <td>...</td>\n",
       "      <td>1.135067e+06</td>\n",
       "      <td>6.157576e+05</td>\n",
       "      <td>7.486763e+00</td>\n",
       "      <td>8.137120e+00</td>\n",
       "      <td>7.688486e+00</td>\n",
       "      <td>3.737298e+00</td>\n",
       "      <td>6.028795e+00</td>\n",
       "      <td>9.265913e+01</td>\n",
       "      <td>6.161315e+00</td>\n",
       "      <td>5.916673e+00</td>\n",
       "    </tr>\n",
       "    <tr>\n",
       "      <th>min</th>\n",
       "      <td>2.273380e+05</td>\n",
       "      <td>0.000000e+00</td>\n",
       "      <td>-2.167800e+04</td>\n",
       "      <td>-6.859722e+01</td>\n",
       "      <td>0.000000e+00</td>\n",
       "      <td>0.000000e+00</td>\n",
       "      <td>8.800000e+01</td>\n",
       "      <td>1.100000e+01</td>\n",
       "      <td>8.800000e+01</td>\n",
       "      <td>1.100000e+01</td>\n",
       "      <td>...</td>\n",
       "      <td>-2.345051e+06</td>\n",
       "      <td>2.803804e+05</td>\n",
       "      <td>-2.630000e+01</td>\n",
       "      <td>-3.220000e+01</td>\n",
       "      <td>-2.000000e+01</td>\n",
       "      <td>0.000000e+00</td>\n",
       "      <td>0.000000e+00</td>\n",
       "      <td>0.000000e+00</td>\n",
       "      <td>0.000000e+00</td>\n",
       "      <td>9.865000e+02</td>\n",
       "    </tr>\n",
       "    <tr>\n",
       "      <th>25%</th>\n",
       "      <td>2.438908e+07</td>\n",
       "      <td>1.600000e+00</td>\n",
       "      <td>1.137800e+04</td>\n",
       "      <td>6.134615e+01</td>\n",
       "      <td>4.700000e+01</td>\n",
       "      <td>2.708333e-01</td>\n",
       "      <td>1.878300e+04</td>\n",
       "      <td>1.047308e+02</td>\n",
       "      <td>1.591100e+04</td>\n",
       "      <td>9.213018e+01</td>\n",
       "      <td>...</td>\n",
       "      <td>-1.174676e+06</td>\n",
       "      <td>1.135755e+06</td>\n",
       "      <td>1.180000e+01</td>\n",
       "      <td>3.300000e+00</td>\n",
       "      <td>2.000000e+01</td>\n",
       "      <td>0.000000e+00</td>\n",
       "      <td>0.000000e+00</td>\n",
       "      <td>1.307000e+02</td>\n",
       "      <td>6.500000e+00</td>\n",
       "      <td>1.013400e+03</td>\n",
       "    </tr>\n",
       "    <tr>\n",
       "      <th>50%</th>\n",
       "      <td>4.902578e+07</td>\n",
       "      <td>3.800000e+00</td>\n",
       "      <td>4.065700e+04</td>\n",
       "      <td>2.151479e+02</td>\n",
       "      <td>2.560000e+02</td>\n",
       "      <td>1.465278e+00</td>\n",
       "      <td>3.071500e+04</td>\n",
       "      <td>1.785799e+02</td>\n",
       "      <td>2.608300e+04</td>\n",
       "      <td>1.447633e+02</td>\n",
       "      <td>...</td>\n",
       "      <td>1.857376e+04</td>\n",
       "      <td>1.526505e+06</td>\n",
       "      <td>1.720000e+01</td>\n",
       "      <td>9.400000e+00</td>\n",
       "      <td>2.560000e+01</td>\n",
       "      <td>0.000000e+00</td>\n",
       "      <td>0.000000e+00</td>\n",
       "      <td>1.921000e+02</td>\n",
       "      <td>9.700000e+00</td>\n",
       "      <td>1.016900e+03</td>\n",
       "    </tr>\n",
       "    <tr>\n",
       "      <th>75%</th>\n",
       "      <td>6.465689e+07</td>\n",
       "      <td>8.600000e+00</td>\n",
       "      <td>1.251100e+05</td>\n",
       "      <td>5.972778e+02</td>\n",
       "      <td>8.330000e+02</td>\n",
       "      <td>4.608975e+00</td>\n",
       "      <td>4.610400e+04</td>\n",
       "      <td>2.511528e+02</td>\n",
       "      <td>3.991900e+04</td>\n",
       "      <td>2.228225e+02</td>\n",
       "      <td>...</td>\n",
       "      <td>7.756988e+05</td>\n",
       "      <td>2.080005e+06</td>\n",
       "      <td>2.280000e+01</td>\n",
       "      <td>1.600000e+01</td>\n",
       "      <td>3.060000e+01</td>\n",
       "      <td>0.000000e+00</td>\n",
       "      <td>0.000000e+00</td>\n",
       "      <td>2.688000e+02</td>\n",
       "      <td>1.370000e+01</td>\n",
       "      <td>1.020900e+03</td>\n",
       "    </tr>\n",
       "    <tr>\n",
       "      <th>max</th>\n",
       "      <td>9.504961e+07</td>\n",
       "      <td>1.485400e+03</td>\n",
       "      <td>1.118260e+06</td>\n",
       "      <td>3.533868e+03</td>\n",
       "      <td>1.469200e+04</td>\n",
       "      <td>5.104142e+01</td>\n",
       "      <td>1.805670e+05</td>\n",
       "      <td>3.989586e+02</td>\n",
       "      <td>1.543290e+05</td>\n",
       "      <td>3.100000e+02</td>\n",
       "      <td>...</td>\n",
       "      <td>2.247949e+06</td>\n",
       "      <td>3.153255e+06</td>\n",
       "      <td>3.890000e+01</td>\n",
       "      <td>3.280000e+01</td>\n",
       "      <td>4.670000e+01</td>\n",
       "      <td>2.850000e+02</td>\n",
       "      <td>4.300000e+02</td>\n",
       "      <td>3.600000e+02</td>\n",
       "      <td>9.000000e+01</td>\n",
       "      <td>1.042000e+03</td>\n",
       "    </tr>\n",
       "  </tbody>\n",
       "</table>\n",
       "<p>8 rows × 30 columns</p>\n",
       "</div>"
      ],
      "text/plain": [
       "         Polygon_ID           frp      ELEV_sum     ELEV_mean       SLP_sum  \\\n",
       "count  2.793185e+06  2.793185e+06  2.793185e+06  2.793185e+06  2.793185e+06   \n",
       "mean   4.573263e+07  1.042587e+01  1.159594e+05  4.988689e+02  8.750707e+02   \n",
       "std    2.343458e+07  2.868568e+01  1.781257e+05  6.779527e+02  1.631309e+03   \n",
       "min    2.273380e+05  0.000000e+00 -2.167800e+04 -6.859722e+01  0.000000e+00   \n",
       "25%    2.438908e+07  1.600000e+00  1.137800e+04  6.134615e+01  4.700000e+01   \n",
       "50%    4.902578e+07  3.800000e+00  4.065700e+04  2.151479e+02  2.560000e+02   \n",
       "75%    6.465689e+07  8.600000e+00  1.251100e+05  5.972778e+02  8.330000e+02   \n",
       "max    9.504961e+07  1.485400e+03  1.118260e+06  3.533868e+03  1.469200e+04   \n",
       "\n",
       "           SLP_mean       EVT_sum      EVT_mean       EVH_sum      EVH_mean  \\\n",
       "count  2.793185e+06  2.793185e+06  2.793185e+06  2.793185e+06  2.793185e+06   \n",
       "mean   4.323684e+00  3.377867e+04  1.797674e+02  2.921417e+04  1.553358e+02   \n",
       "std    6.891363e+00  2.203291e+04  9.549594e+01  1.951421e+04  8.436214e+01   \n",
       "min    0.000000e+00  8.800000e+01  1.100000e+01  8.800000e+01  1.100000e+01   \n",
       "25%    2.708333e-01  1.878300e+04  1.047308e+02  1.591100e+04  9.213018e+01   \n",
       "50%    1.465278e+00  3.071500e+04  1.785799e+02  2.608300e+04  1.447633e+02   \n",
       "75%    4.608975e+00  4.610400e+04  2.511528e+02  3.991900e+04  2.228225e+02   \n",
       "max    5.104142e+01  1.805670e+05  3.989586e+02  1.543290e+05  3.100000e+02   \n",
       "\n",
       "       ...    c_latitude   c_longitude      TEMP_min      TEMP_max  \\\n",
       "count  ...  2.793185e+06  2.793185e+06  2.792932e+06  2.793092e+06   \n",
       "mean   ... -1.409716e+05  1.616032e+06  1.716024e+01  9.740139e+00   \n",
       "std    ...  1.135067e+06  6.157576e+05  7.486763e+00  8.137120e+00   \n",
       "min    ... -2.345051e+06  2.803804e+05 -2.630000e+01 -3.220000e+01   \n",
       "25%    ... -1.174676e+06  1.135755e+06  1.180000e+01  3.300000e+00   \n",
       "50%    ...  1.857376e+04  1.526505e+06  1.720000e+01  9.400000e+00   \n",
       "75%    ...  7.756988e+05  2.080005e+06  2.280000e+01  1.600000e+01   \n",
       "max    ...  2.247949e+06  3.153255e+06  3.890000e+01  3.280000e+01   \n",
       "\n",
       "               PRCP          SNOW      WDIR_ave      WSPD_ave      PRES_ave  \\\n",
       "count  2.793092e+06  2.790321e+06  2.425210e+06  1.678275e+06  2.792780e+06   \n",
       "mean   2.487394e+01  5.314546e-01  3.326034e-01  1.926398e+02  1.081041e+01   \n",
       "std    7.688486e+00  3.737298e+00  6.028795e+00  9.265913e+01  6.161315e+00   \n",
       "min   -2.000000e+01  0.000000e+00  0.000000e+00  0.000000e+00  0.000000e+00   \n",
       "25%    2.000000e+01  0.000000e+00  0.000000e+00  1.307000e+02  6.500000e+00   \n",
       "50%    2.560000e+01  0.000000e+00  0.000000e+00  1.921000e+02  9.700000e+00   \n",
       "75%    3.060000e+01  0.000000e+00  0.000000e+00  2.688000e+02  1.370000e+01   \n",
       "max    4.670000e+01  2.850000e+02  4.300000e+02  3.600000e+02  9.000000e+01   \n",
       "\n",
       "              WCOMP  \n",
       "count  2.785373e+06  \n",
       "mean   1.017047e+03  \n",
       "std    5.916673e+00  \n",
       "min    9.865000e+02  \n",
       "25%    1.013400e+03  \n",
       "50%    1.016900e+03  \n",
       "75%    1.020900e+03  \n",
       "max    1.042000e+03  \n",
       "\n",
       "[8 rows x 30 columns]"
      ]
     },
     "execution_count": 6,
     "metadata": {},
     "output_type": "execute_result"
    }
   ],
   "source": [
    "fires.describe()"
   ]
  },
  {
   "cell_type": "code",
   "execution_count": 13,
   "id": "d5a1acef",
   "metadata": {},
   "outputs": [],
   "source": [
    "fires = fires.dropna()"
   ]
  },
  {
   "cell_type": "code",
   "execution_count": 14,
   "id": "75e0f691",
   "metadata": {},
   "outputs": [
    {
     "data": {
      "image/png": "[encoded data removed]",
      "text/plain": [
       "<Figure size 640x480 with 1 Axes>"
      ]
     },
     "metadata": {},
     "output_type": "display_data"
    }
   ],
   "source": [
    "plt.hist(fires['frp'], bins=100)\n",
    "plt.show()"
   ]
  },
  {
   "cell_type": "code",
   "execution_count": 15,
   "id": "49956b78",
   "metadata": {},
   "outputs": [],
   "source": [
    "# Create new column with area scaled https://pandas.pydata.org/docs/getting_started/intro_tutorials/05_add_columns.html\n",
    "# https://aosmith.rbind.io/2018/09/19/the-log-0-problem/ address 0.0\n",
    "\n",
    "fires['frp_scaled'] = np.log10(fires['frp'] + 1)"
   ]
  },
  {
   "cell_type": "code",
   "execution_count": 16,
   "id": "185e0113",
   "metadata": {},
   "outputs": [
    {
     "data": {
      "image/png": "[encoded data removed]",
      "text/plain": [
       "<Figure size 640x480 with 1 Axes>"
      ]
     },
     "metadata": {},
     "output_type": "display_data"
    }
   ],
   "source": [
    "plt.hist(fires['frp_scaled'], bins=100)\n",
    "plt.show()"
   ]
  },
  {
   "cell_type": "code",
   "execution_count": 17,
   "id": "05d3e05b",
   "metadata": {},
   "outputs": [],
   "source": [
    "X = fires[cols]  # Independent variables\n",
    "Y = fires['frp_scaled']  # Dependent variable\n",
    "\n",
    "# Separate 80% data into training set and 20% into test set\n",
    "# random_state=0 ensures that the results are reproducible\n",
    "X_train, X_test, Y_train, Y_test = train_test_split(X, Y, test_size=.20, random_state=0)"
   ]
  },
  {
   "cell_type": "code",
   "execution_count": 25,
   "id": "5674e8cb",
   "metadata": {},
   "outputs": [],
   "source": [
    "filepath = \"C:\\\\Users\\\\szhan\\\\Downloads\\\\MAD2502_Forest_Fire\\\\Dataset\\\\wildfiredb_2016_subset.csv\"\n",
    "fires.to_csv(filepath, index=False)"
   ]
  },
  {
   "cell_type": "markdown",
   "id": "b95cefbf",
   "metadata": {},
   "source": [
    "## Predict with K-Nearest Neighbors Algorithm"
   ]
  },
  {
   "cell_type": "code",
   "execution_count": 18,
   "id": "0ce47bb4",
   "metadata": {},
   "outputs": [
    {
     "name": "stdout",
     "output_type": "stream",
     "text": [
      "[0.49045597 1.28787515 0.95477801 ... 0.63240891 0.74371061 0.51236892]\n"
     ]
    }
   ],
   "source": [
    "# Applying k-nearest neighbors model\n",
    "KNN_model = KNeighborsRegressor(n_neighbors=12)\n",
    "KNN_model.fit(X_train,Y_train)\n",
    "KNN_predict = KNN_model.predict(X_test) # Predictions on testing data\n",
    "print(KNN_predict)"
   ]
  },
  {
   "cell_type": "code",
   "execution_count": 23,
   "id": "2cc30c60",
   "metadata": {},
   "outputs": [
    {
     "name": "stdout",
     "output_type": "stream",
     "text": [
      "Mean Squared Error: 0.0661636567252851\n"
     ]
    }
   ],
   "source": [
    "error = mean_squared_error(Y_test, KNN_predict)\n",
    "print(\"Mean Squared Error:\", error)"
   ]
  },
  {
   "cell_type": "code",
   "execution_count": 39,
   "id": "2a217a11",
   "metadata": {},
   "outputs": [
    {
     "name": "stdout",
     "output_type": "stream",
     "text": [
      "Mean Absolute Error: 0.18338523688280137\n"
     ]
    }
   ],
   "source": [
    "# https://towardsdatascience.com/random-forest-in-python-24d0893d51c0\n",
    "# Calculate the absolute errors\n",
    "errors = abs(KNN_predict - Y_test)\n",
    "\n",
    "# Print out the mean absolute error (MAE)\n",
    "print('Mean Absolute Error:', np.mean(errors))"
   ]
  },
  {
   "cell_type": "markdown",
   "id": "9fc89120",
   "metadata": {},
   "source": [
    "## Predict with Random Forest\n",
    "\n",
    "- https://medium.com/@theclickreader/random-forest-regression-explained-with-implementation-in-python-3dad88caf165\n",
    "- https://openreview.net/pdf?id=6nblryHxVbO\n",
    "\n",
    "The random forest model consists of a maximum depth of 30,\n",
    "maximum samples per iteration of 5,000, and trees are varied between 50, 100, and 500. We find that\n",
    "the random forest model was insensitive to the number of trees"
   ]
  },
  {
   "cell_type": "code",
   "execution_count": 28,
   "id": "3dffbf20",
   "metadata": {},
   "outputs": [],
   "source": [
    "RF_model = RandomForestRegressor(n_estimators = 50, max_depth = 30, max_samples=5000).fit(X_train, Y_train)\n",
    "RF_predict = RF_model.predict(X_test) # Predictions on testing data"
   ]
  },
  {
   "cell_type": "code",
   "execution_count": 29,
   "id": "d229b30f",
   "metadata": {},
   "outputs": [
    {
     "name": "stdout",
     "output_type": "stream",
     "text": [
      "Mean Squared Error: 0.12109952413609848\n"
     ]
    }
   ],
   "source": [
    "error = mean_squared_error(Y_test, RF_predict)\n",
    "print(\"Mean Squared Error:\", error)"
   ]
  },
  {
   "cell_type": "code",
   "execution_count": 38,
   "id": "733c6839",
   "metadata": {},
   "outputs": [
    {
     "name": "stdout",
     "output_type": "stream",
     "text": [
      "Mean Absolute Error: 0.26264674871950844\n"
     ]
    }
   ],
   "source": [
    "# https://towardsdatascience.com/random-forest-in-python-24d0893d51c0\n",
    "# Calculate the absolute errors\n",
    "errors = abs(RF_predict - Y_test)\n",
    "\n",
    "# Print out the mean absolute error (MAE)\n",
    "print('Mean Absolute Error:', np.mean(errors))"
   ]
  },
  {
   "cell_type": "markdown",
   "id": "de07ff30",
   "metadata": {},
   "source": [
    "## Predict with Decision Tree Algorithm\n",
    "\n",
    "- Code references tutorial https://www.askpython.com/python/examples/python-predict-function\n",
    "- Accuracy references https://towardsdatascience.com/k-nearest-neighbors-94395f445221"
   ]
  },
  {
   "cell_type": "code",
   "execution_count": 40,
   "id": "6fc6067b",
   "metadata": {},
   "outputs": [
    {
     "name": "stdout",
     "output_type": "stream",
     "text": [
      "[0.57195822 1.22504886 1.03564076 ... 0.57195822 0.67975449 0.57195822]\n"
     ]
    }
   ],
   "source": [
    "DT_model = DecisionTreeRegressor(max_depth=5).fit(X_train,Y_train)\n",
    "DT_predict = DT_model.predict(X_test) # Predictions on testing data\n",
    "print(DT_predict)"
   ]
  },
  {
   "cell_type": "code",
   "execution_count": 41,
   "id": "f77227b5",
   "metadata": {},
   "outputs": [
    {
     "name": "stdout",
     "output_type": "stream",
     "text": [
      "Mean Squared Error: 0.14824002009709225\n",
      "R2 Score: 0.18335106130816747\n"
     ]
    }
   ],
   "source": [
    "error = mean_squared_error(Y_test, DT_predict)\n",
    "r2 = r2_score(Y_test, DT_predict)\n",
    "print(\"Mean Squared Error:\", error)\n",
    "print(\"R2 Score:\", r2)"
   ]
  },
  {
   "cell_type": "code",
   "execution_count": 42,
   "id": "869f53a1",
   "metadata": {},
   "outputs": [
    {
     "name": "stdout",
     "output_type": "stream",
     "text": [
      "Mean Absolute Error: 0.29349253684084375\n"
     ]
    }
   ],
   "source": [
    "# https://towardsdatascience.com/random-forest-in-python-24d0893d51c0\n",
    "# Calculate the absolute errors\n",
    "errors = abs(DT_predict - Y_test)\n",
    "\n",
    "# Print out the mean absolute error (MAE)\n",
    "print('Mean Absolute Error:', np.mean(errors))"
   ]
  },
  {
   "cell_type": "code",
   "execution_count": null,
   "id": "df21af84",
   "metadata": {},
   "outputs": [],
   "source": []
  }
 ],
 "metadata": {
  "kernelspec": {
   "display_name": "Python 3 (ipykernel)",
   "language": "python",
   "name": "python3"
  },
  "language_info": {
   "codemirror_mode": {
    "name": "ipython",
    "version": 3
   },
   "file_extension": ".py",
   "mimetype": "text/x-python",
   "name": "python",
   "nbconvert_exporter": "python",
   "pygments_lexer": "ipython3",
   "version": "3.11.5"
  }
 },
 "nbformat": 4,
 "nbformat_minor": 5
}
