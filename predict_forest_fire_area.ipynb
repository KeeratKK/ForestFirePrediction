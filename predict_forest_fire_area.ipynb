{
 "cells": [
  {
   "cell_type": "markdown",
   "id": "704373bd",
   "metadata": {},
   "source": [
    "# Predicting Forest Fire Burned Area from Meteorological Data\n",
    "\n",
    "Data from https://www.kaggle.com/datasets/elikplim/forest-fires-data-set"
   ]
  },
  {
   "cell_type": "code",
   "execution_count": 1,
   "id": "b754b170",
   "metadata": {},
   "outputs": [],
   "source": [
    "import pandas as pd\n",
    "import numpy as np\n",
    "import seaborn as sns\n",
    "import matplotlib.pyplot as plt\n",
    "from sklearn.model_selection import train_test_split\n",
    "from sklearn.neighbors import KNeighborsRegressor\n",
    "from sklearn.tree import DecisionTreeRegressor"
   ]
  },
  {
   "cell_type": "code",
   "execution_count": 2,
   "id": "676395c9",
   "metadata": {},
   "outputs": [],
   "source": [
    "from sklearn.metrics import mean_squared_error, r2_score"
   ]
  },
  {
   "cell_type": "code",
   "execution_count": 3,
   "id": "1c801f4d",
   "metadata": {},
   "outputs": [],
   "source": [
    "fire_data = pd.read_csv('forestfires.csv')\n",
    "fires = fire_data.copy()"
   ]
  },
  {
   "cell_type": "markdown",
   "id": "3d8e6e1c",
   "metadata": {},
   "source": [
    "## Exploratory Analysis of Fires\n",
    "\n",
    "Code references tutorial https://www.askpython.com/python/examples/python-predict-function\n",
    "Accuracy references https://towardsdatascience.com/k-nearest-neighbors-94395f445221\n",
    "\n",
    "- X - x-axis spatial coordinate within the Montesinho park map: 1 to 9\n",
    "- Y - y-axis spatial coordinate within the Montesinho park map: 2 to 9\n",
    "- month - month of the year: \"jan\" to \"dec\"\n",
    "- day - day of the week: \"mon\" to \"sun\"\n",
    "- FFMC - FFMC index from the FWI system: 18.7 to 96.20\n",
    "- DMC - DMC index from the FWI system: 1.1 to 291.3\n",
    "- DC - DC index from the FWI system: 7.9 to 860.6\n",
    "- ISI - ISI index from the FWI system: 0.0 to 56.10\n",
    "- temp - temperature in Celsius degrees: 2.2 to 33.30\n",
    "- RH - relative humidity in %: 15.0 to 100\n",
    "- wind - wind speed in km/h: 0.40 to 9.40\n",
    "- rain - outside rain in mm/m2 : 0.0 to 6.4\n",
    "- area - the burned area of the forest (in ha): 0.00 to 1090.84 (this output variable is very skewed towards 0.0, thus it may make sense to model with the logarithm transform)."
   ]
  },
  {
   "cell_type": "code",
   "execution_count": 4,
   "id": "7b1ade3e",
   "metadata": {},
   "outputs": [
    {
     "data": {
      "text/html": [
       "<div>\n",
       "<style scoped>\n",
       "    .dataframe tbody tr th:only-of-type {\n",
       "        vertical-align: middle;\n",
       "    }\n",
       "\n",
       "    .dataframe tbody tr th {\n",
       "        vertical-align: top;\n",
       "    }\n",
       "\n",
       "    .dataframe thead th {\n",
       "        text-align: right;\n",
       "    }\n",
       "</style>\n",
       "<table border=\"1\" class=\"dataframe\">\n",
       "  <thead>\n",
       "    <tr style=\"text-align: right;\">\n",
       "      <th></th>\n",
       "      <th>X</th>\n",
       "      <th>Y</th>\n",
       "      <th>month</th>\n",
       "      <th>day</th>\n",
       "      <th>FFMC</th>\n",
       "      <th>DMC</th>\n",
       "      <th>DC</th>\n",
       "      <th>ISI</th>\n",
       "      <th>temp</th>\n",
       "      <th>RH</th>\n",
       "      <th>wind</th>\n",
       "      <th>rain</th>\n",
       "      <th>area</th>\n",
       "    </tr>\n",
       "  </thead>\n",
       "  <tbody>\n",
       "    <tr>\n",
       "      <th>0</th>\n",
       "      <td>7</td>\n",
       "      <td>5</td>\n",
       "      <td>mar</td>\n",
       "      <td>fri</td>\n",
       "      <td>86.2</td>\n",
       "      <td>26.2</td>\n",
       "      <td>94.3</td>\n",
       "      <td>5.1</td>\n",
       "      <td>8.2</td>\n",
       "      <td>51</td>\n",
       "      <td>6.7</td>\n",
       "      <td>0.0</td>\n",
       "      <td>0.0</td>\n",
       "    </tr>\n",
       "    <tr>\n",
       "      <th>1</th>\n",
       "      <td>7</td>\n",
       "      <td>4</td>\n",
       "      <td>oct</td>\n",
       "      <td>tue</td>\n",
       "      <td>90.6</td>\n",
       "      <td>35.4</td>\n",
       "      <td>669.1</td>\n",
       "      <td>6.7</td>\n",
       "      <td>18.0</td>\n",
       "      <td>33</td>\n",
       "      <td>0.9</td>\n",
       "      <td>0.0</td>\n",
       "      <td>0.0</td>\n",
       "    </tr>\n",
       "    <tr>\n",
       "      <th>2</th>\n",
       "      <td>7</td>\n",
       "      <td>4</td>\n",
       "      <td>oct</td>\n",
       "      <td>sat</td>\n",
       "      <td>90.6</td>\n",
       "      <td>43.7</td>\n",
       "      <td>686.9</td>\n",
       "      <td>6.7</td>\n",
       "      <td>14.6</td>\n",
       "      <td>33</td>\n",
       "      <td>1.3</td>\n",
       "      <td>0.0</td>\n",
       "      <td>0.0</td>\n",
       "    </tr>\n",
       "    <tr>\n",
       "      <th>3</th>\n",
       "      <td>8</td>\n",
       "      <td>6</td>\n",
       "      <td>mar</td>\n",
       "      <td>fri</td>\n",
       "      <td>91.7</td>\n",
       "      <td>33.3</td>\n",
       "      <td>77.5</td>\n",
       "      <td>9.0</td>\n",
       "      <td>8.3</td>\n",
       "      <td>97</td>\n",
       "      <td>4.0</td>\n",
       "      <td>0.2</td>\n",
       "      <td>0.0</td>\n",
       "    </tr>\n",
       "    <tr>\n",
       "      <th>4</th>\n",
       "      <td>8</td>\n",
       "      <td>6</td>\n",
       "      <td>mar</td>\n",
       "      <td>sun</td>\n",
       "      <td>89.3</td>\n",
       "      <td>51.3</td>\n",
       "      <td>102.2</td>\n",
       "      <td>9.6</td>\n",
       "      <td>11.4</td>\n",
       "      <td>99</td>\n",
       "      <td>1.8</td>\n",
       "      <td>0.0</td>\n",
       "      <td>0.0</td>\n",
       "    </tr>\n",
       "  </tbody>\n",
       "</table>\n",
       "</div>"
      ],
      "text/plain": [
       "   X  Y month  day  FFMC   DMC     DC  ISI  temp  RH  wind  rain  area\n",
       "0  7  5   mar  fri  86.2  26.2   94.3  5.1   8.2  51   6.7   0.0   0.0\n",
       "1  7  4   oct  tue  90.6  35.4  669.1  6.7  18.0  33   0.9   0.0   0.0\n",
       "2  7  4   oct  sat  90.6  43.7  686.9  6.7  14.6  33   1.3   0.0   0.0\n",
       "3  8  6   mar  fri  91.7  33.3   77.5  9.0   8.3  97   4.0   0.2   0.0\n",
       "4  8  6   mar  sun  89.3  51.3  102.2  9.6  11.4  99   1.8   0.0   0.0"
      ]
     },
     "execution_count": 4,
     "metadata": {},
     "output_type": "execute_result"
    }
   ],
   "source": [
    "fires.head()"
   ]
  },
  {
   "cell_type": "code",
   "execution_count": null,
   "id": "76fb1ee1",
   "metadata": {},
   "outputs": [],
   "source": [
    "fires.describe()"
   ]
  },
  {
   "cell_type": "code",
   "execution_count": null,
   "id": "d668c998",
   "metadata": {},
   "outputs": [],
   "source": [
    "fires.groupby(['month']).count()"
   ]
  },
  {
   "cell_type": "code",
   "execution_count": 5,
   "id": "54cb5b97",
   "metadata": {},
   "outputs": [
    {
     "data": {
      "text/plain": [
       "<Axes: >"
      ]
     },
     "execution_count": 5,
     "metadata": {},
     "output_type": "execute_result"
    },
    {
     "data": {
      "image/png": "[encoded data removed]",
      "text/plain": [
       "<Figure size 640x480 with 2 Axes>"
      ]
     },
     "metadata": {},
     "output_type": "display_data"
    }
   ],
   "source": [
    "# correlations\n",
    "sns.heatmap(fires[['FFMC','DMC','DC','ISI','temp','RH','wind','rain','area']].corr())"
   ]
  },
  {
   "cell_type": "markdown",
   "id": "d0c105a8",
   "metadata": {},
   "source": [
    "## Predict with K-Nearest Neighbors Algorithm, Test 1"
   ]
  },
  {
   "cell_type": "code",
   "execution_count": 6,
   "id": "f89afe49",
   "metadata": {},
   "outputs": [],
   "source": [
    "columns = ['FFMC','DMC','DC','ISI','temp','RH','wind','rain','area']\n",
    "X = fires[columns]  # Dependent variables\n",
    "Y = fires['area']  # Independent variable"
   ]
  },
  {
   "cell_type": "code",
   "execution_count": 7,
   "id": "815bb30c",
   "metadata": {},
   "outputs": [],
   "source": [
    "# Separate 80% data into training set and 20% into test set\n",
    "# random_state=0 ensures that the results are reproducible\n",
    "X_train, X_test, Y_train, Y_test = train_test_split(X, Y, test_size=.20, random_state=0)"
   ]
  },
  {
   "cell_type": "code",
   "execution_count": 8,
   "id": "e86a0caa",
   "metadata": {},
   "outputs": [
    {
     "name": "stdout",
     "output_type": "stream",
     "text": [
      "[1.93433333e+01 1.04000000e+00 1.89666667e+00 8.75566667e+01\n",
      " 2.67666667e+00 0.00000000e+00 8.43333333e-01 5.66666667e-02\n",
      " 3.23666667e+00 1.06000000e+00 1.18000000e+00 1.77833333e+01\n",
      " 1.47333333e+00 5.83333333e-01 4.63666667e+00 4.66666667e-01\n",
      " 3.44666667e+00 8.91333333e+00 0.00000000e+00 2.73333333e+00\n",
      " 2.27666667e+00 0.00000000e+00 5.18000000e+00 5.83333333e-01\n",
      " 1.10666667e+01 4.56666667e+00 3.73333333e-01 5.78666667e+00\n",
      " 1.80666667e+00 2.01333333e+00 3.74666667e+00 8.66333333e+00\n",
      " 1.67666667e+00 9.23333333e-01 0.00000000e+00 1.84506667e+02\n",
      " 0.00000000e+00 3.56666667e-01 4.12563333e+02 3.88333333e+00\n",
      " 2.97333333e+01 3.56666667e-01 7.10000000e-01 0.00000000e+00\n",
      " 0.00000000e+00 0.00000000e+00 4.06000000e+00 2.01333333e+00\n",
      " 7.63333333e-01 1.23333333e+00 0.00000000e+00 4.38333333e+00\n",
      " 2.39666667e+00 2.12866667e+01 1.89666667e+00 1.81333333e+00\n",
      " 2.51000000e+00 3.77333333e+00 5.42666667e+00 4.24000000e+00\n",
      " 1.16666667e+00 3.86666667e-01 3.56666667e-01 4.39000000e+01\n",
      " 3.13733333e+01 1.84506667e+02 0.00000000e+00 8.66333333e+00\n",
      " 1.06000000e+00 1.75100000e+01 3.45000000e+00 4.90000000e-01\n",
      " 0.00000000e+00 0.00000000e+00 1.43333333e-01 1.06000000e+00\n",
      " 4.63666667e+00 0.00000000e+00 2.02666667e+00 1.78333333e+00\n",
      " 4.90000000e-01 2.03333333e-01 0.00000000e+00 7.87666667e+00\n",
      " 0.00000000e+00 0.00000000e+00 4.76666667e+00 0.00000000e+00\n",
      " 9.63333333e-01 3.74666667e+00 5.81666667e+00 1.02546667e+02\n",
      " 1.47333333e+00 1.68000000e+00 1.04000000e+00 5.78666667e+00\n",
      " 1.53666667e+00 7.63333333e-01 1.47333333e+00 5.36666667e-01\n",
      " 2.39666667e+00 9.13333333e-01 0.00000000e+00 8.00000000e-02]\n"
     ]
    }
   ],
   "source": [
    "# Applying k-nearest neighbors model\n",
    "KNN_model = KNeighborsRegressor(n_neighbors=3)\n",
    "KNN_model.fit(X_train,Y_train)\n",
    "KNN_predict = KNN_model.predict(X_test) # Predictions on testing data\n",
    "print(KNN_predict)"
   ]
  },
  {
   "cell_type": "code",
   "execution_count": 9,
   "id": "b19429fa",
   "metadata": {},
   "outputs": [
    {
     "name": "stdout",
     "output_type": "stream",
     "text": [
      "Mean Squared Error: 4526.339010470085\n"
     ]
    }
   ],
   "source": [
    "error = mean_squared_error(Y_test, KNN_predict)\n",
    "print(\"Mean Squared Error:\", error)"
   ]
  },
  {
   "cell_type": "markdown",
   "id": "4aa300bf",
   "metadata": {},
   "source": [
    "## Refine Model"
   ]
  },
  {
   "cell_type": "code",
   "execution_count": 10,
   "id": "01d2950d",
   "metadata": {},
   "outputs": [
    {
     "data": {
      "image/png": "[encoded data removed]",
      "text/plain": [
       "<Figure size 640x480 with 1 Axes>"
      ]
     },
     "metadata": {},
     "output_type": "display_data"
    }
   ],
   "source": [
    "# original data\n",
    "plt.hist(fires['area'], bins=100)\n",
    "plt.show()"
   ]
  },
  {
   "cell_type": "markdown",
   "id": "a179e0f7",
   "metadata": {},
   "source": [
    "Data is skewed because many fires were reported with an area of 0.0"
   ]
  },
  {
   "cell_type": "code",
   "execution_count": 11,
   "id": "4db09969",
   "metadata": {},
   "outputs": [],
   "source": [
    "# Create new column with area scaled https://pandas.pydata.org/docs/getting_started/intro_tutorials/05_add_columns.html\n",
    "# https://aosmith.rbind.io/2018/09/19/the-log-0-problem/ address 0.0\n",
    "fires['arealog'] = np.log10(fires['area'] + 1)"
   ]
  },
  {
   "cell_type": "code",
   "execution_count": 12,
   "id": "7beb3e0e",
   "metadata": {},
   "outputs": [
    {
     "data": {
      "image/png": "[encoded data removed]",
      "text/plain": [
       "<Figure size 640x480 with 1 Axes>"
      ]
     },
     "metadata": {},
     "output_type": "display_data"
    }
   ],
   "source": [
    "# transformed data\n",
    "plt.hist(fires['arealog'], bins=100)\n",
    "plt.show()"
   ]
  },
  {
   "cell_type": "code",
   "execution_count": 13,
   "id": "0c032a5f",
   "metadata": {},
   "outputs": [],
   "source": [
    "columns = ['FFMC','DMC','DC','ISI','temp','RH','wind','rain','area']\n",
    "X = fires[columns]  # Dependent variables\n",
    "Y = fires['arealog']  # Independent variable\n",
    "\n",
    "# Separate 80% data into training set and 20% into test set\n",
    "# random_state=0 ensures that the results are reproducible\n",
    "X_train, X_test, Y_train, Y_test = train_test_split(X, Y, test_size=.20, random_state=0)"
   ]
  },
  {
   "cell_type": "markdown",
   "id": "c7974f0b",
   "metadata": {},
   "source": [
    "## Predict with K-Nearest Neighbors Algorithm, Test 2"
   ]
  },
  {
   "cell_type": "code",
   "execution_count": 14,
   "id": "97439c48",
   "metadata": {},
   "outputs": [
    {
     "name": "stdout",
     "output_type": "stream",
     "text": [
      "[0.80898049 0.5785589  0.49210095 1.63064048 0.36483841 0.1470221\n",
      " 0.34030457 0.09318156 0.41750061 0.36228886 0.34728757 0.76632631\n",
      " 0.35970619 0.13780388 0.50179412 0.3310422  0.17538383 0.4845405\n",
      " 0.38460064 0.41019744 0.23916375 0.42679924 0.43989613 0.54302987\n",
      " 0.50179412 0.45364249 0.20874101 0.31092615 0.48220098 0.31682095\n",
      " 0.34657078 0.27798161 0.41088473 0.27433429 0.16098827 1.83282842\n",
      " 0.         0.1674902  2.15816354 0.5690664  0.83685617 0.18683245\n",
      " 0.21163469 0.06591571 0.40253464 0.21075029 0.27855258 0.31682095\n",
      " 0.10456418 0.34144793 0.09356658 0.49972586 0.48214965 0.91037101\n",
      " 0.50113625 0.23731468 0.45997103 0.22775052 0.62257863 0.24868468\n",
      " 0.20558502 0.21647411 0.62170076 1.00876    0.87080847 1.95886331\n",
      " 0.32298695 0.27798161 0.26557155 0.50478108 0.25256578 0.34945853\n",
      " 0.0811759  0.24831779 0.42876619 0.34096996 0.50179412 0.14371602\n",
      " 0.50523944 0.30749218 0.3727305  0.15937512 0.03661106 0.78574266\n",
      " 0.38460064 0.42703372 0.41019744 0.42679924 0.39801367 0.34657078\n",
      " 0.5797175  1.58046241 0.23111983 0.29895957 0.56131679 0.31092615\n",
      " 0.34425644 0.14371602 0.36199271 0.13407743 0.48214965 0.16257549\n",
      " 0.1466488  0.34486754]\n"
     ]
    }
   ],
   "source": [
    "# Applying k-nearest neighbors model\n",
    "KNN_model = KNeighborsRegressor(n_neighbors=12)\n",
    "KNN_model.fit(X_train,Y_train)\n",
    "KNN_predict = KNN_model.predict(X_test) # Predictions on testing data\n",
    "print(KNN_predict)"
   ]
  },
  {
   "cell_type": "code",
   "execution_count": 15,
   "id": "1fe7f610",
   "metadata": {},
   "outputs": [
    {
     "name": "stdout",
     "output_type": "stream",
     "text": [
      "Mean Squared Error: 0.2421303119891338\n"
     ]
    }
   ],
   "source": [
    "error = mean_squared_error(Y_test, KNN_predict)\n",
    "print(\"Mean Squared Error:\", error)"
   ]
  },
  {
   "cell_type": "markdown",
   "id": "241378e6",
   "metadata": {},
   "source": [
    "## Predict with Decision Tree Algorithm, Test 1\n",
    "\n",
    "Code references tutorial https://www.askpython.com/python/examples/python-predict-function\n",
    "Accuracy references https://towardsdatascience.com/k-nearest-neighbors-94395f445221"
   ]
  },
  {
   "cell_type": "code",
   "execution_count": 16,
   "id": "c9bf0766",
   "metadata": {},
   "outputs": [
    {
     "name": "stdout",
     "output_type": "stream",
     "text": [
      "[1.44775081 0.         0.50501867 1.96662207 0.56442084 0.\n",
      " 0.47269535 0.         1.27253601 0.         0.56442084 1.44775081\n",
      " 1.01819662 0.         1.27253601 0.         0.42469677 1.70541063\n",
      " 0.30509895 0.93328575 0.         0.62081775 0.76937573 0.86382564\n",
      " 1.81845733 1.44775081 0.         0.         0.         0.\n",
      " 0.         0.62081775 0.         1.01819662 0.86382564 2.25971078\n",
      " 0.         0.42469677 2.87348336 0.         1.70541063 0.\n",
      " 0.1593298  0.         0.         0.42469677 0.86382564 0.\n",
      " 0.42469677 0.47269535 0.76937573 1.0862831  0.         1.56551006\n",
      " 0.86382564 0.         0.         0.         0.93328575 1.56551006\n",
      " 0.         0.24172256 0.93328575 1.70541063 1.56551006 2.25971078\n",
      " 0.         0.62081775 0.         1.70541063 1.01819662 0.\n",
      " 0.         0.76937573 0.56442084 0.         0.         0.\n",
      " 0.86382564 0.         0.67744111 0.24172256 0.         0.\n",
      " 0.         1.0862831  0.50501867 0.86382564 0.56442084 0.\n",
      " 1.56551006 1.96662207 0.19836623 0.         0.         0.\n",
      " 0.         0.         0.         0.37000585 0.         0.\n",
      " 0.37000585 0.19836623]\n"
     ]
    }
   ],
   "source": [
    "DT_model = DecisionTreeRegressor(max_depth=5).fit(X_train,Y_train)\n",
    "DT_predict = DT_model.predict(X_test) # Predictions on testing data\n",
    "print(DT_predict)"
   ]
  },
  {
   "cell_type": "code",
   "execution_count": 17,
   "id": "a8616392",
   "metadata": {},
   "outputs": [
    {
     "name": "stdout",
     "output_type": "stream",
     "text": [
      "Mean Squared Error: 0.0006766245596908125\n",
      "R2 Score: 0.9985099657230224\n"
     ]
    }
   ],
   "source": [
    "error = mean_squared_error(Y_test, DT_predict)\n",
    "r2 = r2_score(Y_test, DT_predict)\n",
    "print(\"Mean Squared Error:\", error)\n",
    "print(\"R2 Score:\", r2)"
   ]
  },
  {
   "cell_type": "code",
   "execution_count": null,
   "id": "d47ff34a",
   "metadata": {},
   "outputs": [],
   "source": [
    "# f2 score\n",
    "\n",
    "# california region\n",
    "# predict, for a given location, what is the probability of a fire"
   ]
  }
 ],
 "metadata": {
  "kernelspec": {
   "display_name": "Python 3 (ipykernel)",
   "language": "python",
   "name": "python3"
  },
  "language_info": {
   "codemirror_mode": {
    "name": "ipython",
    "version": 3
   },
   "file_extension": ".py",
   "mimetype": "text/x-python",
   "name": "python",
   "nbconvert_exporter": "python",
   "pygments_lexer": "ipython3",
   "version": "3.11.5"
  }
 },
 "nbformat": 4,
 "nbformat_minor": 5
}
